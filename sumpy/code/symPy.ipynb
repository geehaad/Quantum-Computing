{
 "cells": [
  {
   "cell_type": "code",
   "execution_count": 41,
   "metadata": {},
   "outputs": [],
   "source": [
    "# import symbols from sympy library\n",
    "# 'symbols' helps us create a symbolic notation, like any thing you want, without have an error, like in python\n",
    "from sympy import symbols\n",
    "\n",
    "# for W\n",
    "w = symbols(\"|W>\")\n",
    "a,b,c=symbols(\"a,b,c\")\n",
    "\n",
    "# for Q\n",
    "q = symbols(\"|Q>\")\n",
    "e,f,g = symbols(\"e,f,g\")\n",
    "\n",
    "# first vector\n",
    "first = symbols(\"|1>\")\n",
    "#second vector\n",
    "second = symbols(\"|2>\")\n",
    "#third vector\n",
    "third = symbols(\"|3>\")"
   ]
  },
  {
   "cell_type": "code",
   "execution_count": 42,
   "metadata": {},
   "outputs": [
    {
     "name": "stdout",
     "output_type": "stream",
     "text": [
      "The first Quantum data is |W>\n",
      "The second Quantum data is |Q>\n"
     ]
    }
   ],
   "source": [
    "print(\"The first Quantum data is\", w)\n",
    "print(\"The second Quantum data is\", q)"
   ]
  },
  {
   "cell_type": "code",
   "execution_count": 43,
   "metadata": {},
   "outputs": [],
   "source": [
    "# For W equation \n",
    "w = a*first + b*second + c*third\n",
    "# For Q equation\n",
    "q = e*first + f*second + g*third"
   ]
  },
  {
   "cell_type": "code",
   "execution_count": 44,
   "metadata": {},
   "outputs": [
    {
     "name": "stdout",
     "output_type": "stream",
     "text": [
      "The first Quantum equation is:  a*|1> + b*|2> + c*|3>\n",
      "The second Quantum equation is:  e*|1> + f*|2> + g*|3>\n"
     ]
    }
   ],
   "source": [
    "print(\"The first Quantum equation is: \", w )\n",
    "print(\"The second Quantum equation is: \", q )"
   ]
  },
  {
   "cell_type": "code",
   "execution_count": 63,
   "metadata": {},
   "outputs": [],
   "source": [
    "from IPython.display import display\n",
    "from sympy.matrices import Matrix\n",
    "\n",
    "m1 = Matrix(3, 1, [1, 0, 0])\n",
    "m2 = Matrix(3, 1, [0, 1, 0])\n",
    "m3 = Matrix(3, 1, [0, 0, 1])\n"
   ]
  },
  {
   "cell_type": "code",
   "execution_count": 71,
   "metadata": {},
   "outputs": [
    {
     "name": "stdout",
     "output_type": "stream",
     "text": [
      "|1> is equal to\n"
     ]
    },
    {
     "data": {
      "text/latex": [
       "$\\displaystyle \\left[\\begin{matrix}1\\\\0\\\\0\\end{matrix}\\right]$"
      ],
      "text/plain": [
       "Matrix([\n",
       "[1],\n",
       "[0],\n",
       "[0]])"
      ]
     },
     "metadata": {},
     "output_type": "display_data"
    }
   ],
   "source": [
    "print(first,\"is equal to\")\n",
    "display(m1)"
   ]
  },
  {
   "cell_type": "code",
   "execution_count": 72,
   "metadata": {},
   "outputs": [
    {
     "name": "stdout",
     "output_type": "stream",
     "text": [
      "|2> is equal to\n"
     ]
    },
    {
     "data": {
      "text/latex": [
       "$\\displaystyle \\left[\\begin{matrix}0\\\\1\\\\0\\end{matrix}\\right]$"
      ],
      "text/plain": [
       "Matrix([\n",
       "[0],\n",
       "[1],\n",
       "[0]])"
      ]
     },
     "metadata": {},
     "output_type": "display_data"
    }
   ],
   "source": [
    "print(second,\"is equal to\")\n",
    "display(m2)"
   ]
  },
  {
   "cell_type": "code",
   "execution_count": 73,
   "metadata": {},
   "outputs": [
    {
     "name": "stdout",
     "output_type": "stream",
     "text": [
      "|3> is equal to\n"
     ]
    },
    {
     "data": {
      "text/latex": [
       "$\\displaystyle \\left[\\begin{matrix}0\\\\0\\\\1\\end{matrix}\\right]$"
      ],
      "text/plain": [
       "Matrix([\n",
       "[0],\n",
       "[0],\n",
       "[1]])"
      ]
     },
     "metadata": {},
     "output_type": "display_data"
    }
   ],
   "source": [
    "print(third,\"is equal to\")\n",
    "display(m3)"
   ]
  },
  {
   "cell_type": "markdown",
   "metadata": {},
   "source": [
    "By the information we have, we can now evaluate the <span style=\"color:red\"> W</span> and the <span style=\"color:red\">Q</span>"
   ]
  },
  {
   "cell_type": "code",
   "execution_count": 76,
   "metadata": {},
   "outputs": [
    {
     "name": "stdout",
     "output_type": "stream",
     "text": [
      "The first Quantum equation is: \n"
     ]
    },
    {
     "data": {
      "text/latex": [
       "$\\displaystyle \\left[\\begin{matrix}a\\\\b\\\\c\\end{matrix}\\right]$"
      ],
      "text/plain": [
       "Matrix([\n",
       "[a],\n",
       "[b],\n",
       "[c]])"
      ]
     },
     "metadata": {},
     "output_type": "display_data"
    }
   ],
   "source": [
    "w = w.subs([(first, m1), (second, m2), (third, m3)]) \n",
    "print(\"The first Quantum equation is: \")\n",
    "display(w)"
   ]
  },
  {
   "cell_type": "code",
   "execution_count": 77,
   "metadata": {},
   "outputs": [
    {
     "name": "stdout",
     "output_type": "stream",
     "text": [
      "The second Quantum equation is: \n"
     ]
    },
    {
     "data": {
      "text/latex": [
       "$\\displaystyle \\left[\\begin{matrix}e\\\\f\\\\g\\end{matrix}\\right]$"
      ],
      "text/plain": [
       "Matrix([\n",
       "[e],\n",
       "[f],\n",
       "[g]])"
      ]
     },
     "metadata": {},
     "output_type": "display_data"
    }
   ],
   "source": [
    "q = q.subs([(first, m1), (second, m2), (third, m3)]) \n",
    "print(\"The second Quantum equation is: \")\n",
    "display(q)"
   ]
  },
  {
   "cell_type": "markdown",
   "metadata": {},
   "source": [
    "To have the product of the two matrices, we have first get the transpose of the second matrix"
   ]
  },
  {
   "cell_type": "code",
   "execution_count": 81,
   "metadata": {},
   "outputs": [
    {
     "name": "stdout",
     "output_type": "stream",
     "text": [
      "The Q transpose is :\n"
     ]
    },
    {
     "data": {
      "text/latex": [
       "$\\displaystyle \\left[\\begin{matrix}e & f & g\\end{matrix}\\right]$"
      ],
      "text/plain": [
       "Matrix([[e, f, g]])"
      ]
     },
     "metadata": {},
     "output_type": "display_data"
    }
   ],
   "source": [
    "import numpy as np\n",
    "# Get the transpose of q\n",
    "q_trans = q.transpose()\n",
    "print(\"The Q transpose is :\")\n",
    "display(q_trans)"
   ]
  },
  {
   "cell_type": "markdown",
   "metadata": {},
   "source": [
    "Now, Let's get the outer product of the two matrices "
   ]
  },
  {
   "cell_type": "code",
   "execution_count": 82,
   "metadata": {},
   "outputs": [
    {
     "name": "stdout",
     "output_type": "stream",
     "text": [
      "[[a*e a*f a*g]\n",
      " [b*e b*f b*g]\n",
      " [c*e c*f c*g]]\n"
     ]
    }
   ],
   "source": [
    "print(np.dot(w,q_trans))"
   ]
  },
  {
   "cell_type": "code",
   "execution_count": null,
   "metadata": {},
   "outputs": [],
   "source": []
  }
 ],
 "metadata": {
  "@webio": {
   "lastCommId": null,
   "lastKernelId": null
  },
  "kernelspec": {
   "display_name": "Python 3",
   "language": "python",
   "name": "python3"
  },
  "language_info": {
   "codemirror_mode": {
    "name": "ipython",
    "version": 3
   },
   "file_extension": ".py",
   "mimetype": "text/x-python",
   "name": "python",
   "nbconvert_exporter": "python",
   "pygments_lexer": "ipython3",
   "version": "3.8.5"
  }
 },
 "nbformat": 4,
 "nbformat_minor": 4
}
